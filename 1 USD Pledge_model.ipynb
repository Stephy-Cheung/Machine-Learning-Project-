{
 "cells": [
  {
   "cell_type": "code",
   "execution_count": 1,
   "metadata": {},
   "outputs": [],
   "source": [
    "# Import library\n",
    "\n",
    "import pandas as pd \n",
    "import numpy as np\n",
    "import seaborn as sns\n",
    "\n",
    "from xgboost import XGBClassifier\n",
    "from sklearn.linear_model import LogisticRegression\n",
    "from sklearn.ensemble import RandomForestClassifier\n",
    "from sklearn.model_selection import train_test_split, cross_val_score\n",
    "from sklearn.metrics import confusion_matrix, classification_report\n",
    "from sklearn.metrics import accuracy_score, precision_score, recall_score, f1_score\n",
    "from sklearn.model_selection import GridSearchCV"
   ]
  },
  {
   "cell_type": "code",
   "execution_count": 2,
   "metadata": {},
   "outputs": [
    {
     "data": {
      "text/html": [
       "<div>\n",
       "<style scoped>\n",
       "    .dataframe tbody tr th:only-of-type {\n",
       "        vertical-align: middle;\n",
       "    }\n",
       "\n",
       "    .dataframe tbody tr th {\n",
       "        vertical-align: top;\n",
       "    }\n",
       "\n",
       "    .dataframe thead th {\n",
       "        text-align: right;\n",
       "    }\n",
       "</style>\n",
       "<table border=\"1\" class=\"dataframe\">\n",
       "  <thead>\n",
       "    <tr style=\"text-align: right;\">\n",
       "      <th></th>\n",
       "      <th>duration</th>\n",
       "      <th>blurb_length</th>\n",
       "      <th>name_length</th>\n",
       "      <th>usd_pledged</th>\n",
       "      <th>success</th>\n",
       "      <th>US based</th>\n",
       "      <th>main_category_comics</th>\n",
       "      <th>main_category_crafts</th>\n",
       "      <th>main_category_dance</th>\n",
       "      <th>main_category_design</th>\n",
       "      <th>...</th>\n",
       "      <th>main_category_games</th>\n",
       "      <th>main_category_journalism</th>\n",
       "      <th>main_category_music</th>\n",
       "      <th>main_category_photography</th>\n",
       "      <th>main_category_publishing</th>\n",
       "      <th>main_category_technology</th>\n",
       "      <th>main_category_theater</th>\n",
       "      <th>start_Q_Q2</th>\n",
       "      <th>start_Q_Q3</th>\n",
       "      <th>start_Q_Q4</th>\n",
       "    </tr>\n",
       "  </thead>\n",
       "  <tbody>\n",
       "    <tr>\n",
       "      <th>0</th>\n",
       "      <td>0.163043</td>\n",
       "      <td>0.382353</td>\n",
       "      <td>0.230769</td>\n",
       "      <td>0.000705</td>\n",
       "      <td>1.0</td>\n",
       "      <td>1.0</td>\n",
       "      <td>0.0</td>\n",
       "      <td>0.0</td>\n",
       "      <td>0.0</td>\n",
       "      <td>0.0</td>\n",
       "      <td>...</td>\n",
       "      <td>1.0</td>\n",
       "      <td>0.0</td>\n",
       "      <td>0.0</td>\n",
       "      <td>0.0</td>\n",
       "      <td>0.0</td>\n",
       "      <td>0.0</td>\n",
       "      <td>0.0</td>\n",
       "      <td>0.0</td>\n",
       "      <td>0.0</td>\n",
       "      <td>1.0</td>\n",
       "    </tr>\n",
       "    <tr>\n",
       "      <th>1</th>\n",
       "      <td>0.315217</td>\n",
       "      <td>0.676471</td>\n",
       "      <td>0.269231</td>\n",
       "      <td>0.000455</td>\n",
       "      <td>1.0</td>\n",
       "      <td>0.0</td>\n",
       "      <td>1.0</td>\n",
       "      <td>0.0</td>\n",
       "      <td>0.0</td>\n",
       "      <td>0.0</td>\n",
       "      <td>...</td>\n",
       "      <td>0.0</td>\n",
       "      <td>0.0</td>\n",
       "      <td>0.0</td>\n",
       "      <td>0.0</td>\n",
       "      <td>0.0</td>\n",
       "      <td>0.0</td>\n",
       "      <td>0.0</td>\n",
       "      <td>0.0</td>\n",
       "      <td>1.0</td>\n",
       "      <td>0.0</td>\n",
       "    </tr>\n",
       "    <tr>\n",
       "      <th>2</th>\n",
       "      <td>0.315217</td>\n",
       "      <td>0.588235</td>\n",
       "      <td>0.230769</td>\n",
       "      <td>0.000129</td>\n",
       "      <td>1.0</td>\n",
       "      <td>1.0</td>\n",
       "      <td>0.0</td>\n",
       "      <td>0.0</td>\n",
       "      <td>0.0</td>\n",
       "      <td>0.0</td>\n",
       "      <td>...</td>\n",
       "      <td>0.0</td>\n",
       "      <td>0.0</td>\n",
       "      <td>0.0</td>\n",
       "      <td>0.0</td>\n",
       "      <td>0.0</td>\n",
       "      <td>0.0</td>\n",
       "      <td>0.0</td>\n",
       "      <td>1.0</td>\n",
       "      <td>0.0</td>\n",
       "      <td>0.0</td>\n",
       "    </tr>\n",
       "    <tr>\n",
       "      <th>3</th>\n",
       "      <td>0.478261</td>\n",
       "      <td>0.411765</td>\n",
       "      <td>0.192308</td>\n",
       "      <td>0.000559</td>\n",
       "      <td>1.0</td>\n",
       "      <td>1.0</td>\n",
       "      <td>0.0</td>\n",
       "      <td>0.0</td>\n",
       "      <td>0.0</td>\n",
       "      <td>0.0</td>\n",
       "      <td>...</td>\n",
       "      <td>0.0</td>\n",
       "      <td>0.0</td>\n",
       "      <td>1.0</td>\n",
       "      <td>0.0</td>\n",
       "      <td>0.0</td>\n",
       "      <td>0.0</td>\n",
       "      <td>0.0</td>\n",
       "      <td>0.0</td>\n",
       "      <td>1.0</td>\n",
       "      <td>0.0</td>\n",
       "    </tr>\n",
       "    <tr>\n",
       "      <th>4</th>\n",
       "      <td>0.641304</td>\n",
       "      <td>0.411765</td>\n",
       "      <td>0.115385</td>\n",
       "      <td>0.004696</td>\n",
       "      <td>1.0</td>\n",
       "      <td>1.0</td>\n",
       "      <td>0.0</td>\n",
       "      <td>0.0</td>\n",
       "      <td>0.0</td>\n",
       "      <td>0.0</td>\n",
       "      <td>...</td>\n",
       "      <td>0.0</td>\n",
       "      <td>0.0</td>\n",
       "      <td>0.0</td>\n",
       "      <td>0.0</td>\n",
       "      <td>0.0</td>\n",
       "      <td>1.0</td>\n",
       "      <td>0.0</td>\n",
       "      <td>0.0</td>\n",
       "      <td>0.0</td>\n",
       "      <td>1.0</td>\n",
       "    </tr>\n",
       "  </tbody>\n",
       "</table>\n",
       "<p>5 rows × 23 columns</p>\n",
       "</div>"
      ],
      "text/plain": [
       "   duration  blurb_length  name_length  usd_pledged  success  US based  \\\n",
       "0  0.163043      0.382353     0.230769     0.000705      1.0       1.0   \n",
       "1  0.315217      0.676471     0.269231     0.000455      1.0       0.0   \n",
       "2  0.315217      0.588235     0.230769     0.000129      1.0       1.0   \n",
       "3  0.478261      0.411765     0.192308     0.000559      1.0       1.0   \n",
       "4  0.641304      0.411765     0.115385     0.004696      1.0       1.0   \n",
       "\n",
       "   main_category_comics  main_category_crafts  main_category_dance  \\\n",
       "0                   0.0                   0.0                  0.0   \n",
       "1                   1.0                   0.0                  0.0   \n",
       "2                   0.0                   0.0                  0.0   \n",
       "3                   0.0                   0.0                  0.0   \n",
       "4                   0.0                   0.0                  0.0   \n",
       "\n",
       "   main_category_design  ...  main_category_games  main_category_journalism  \\\n",
       "0                   0.0  ...                  1.0                       0.0   \n",
       "1                   0.0  ...                  0.0                       0.0   \n",
       "2                   0.0  ...                  0.0                       0.0   \n",
       "3                   0.0  ...                  0.0                       0.0   \n",
       "4                   0.0  ...                  0.0                       0.0   \n",
       "\n",
       "   main_category_music  main_category_photography  main_category_publishing  \\\n",
       "0                  0.0                        0.0                       0.0   \n",
       "1                  0.0                        0.0                       0.0   \n",
       "2                  0.0                        0.0                       0.0   \n",
       "3                  1.0                        0.0                       0.0   \n",
       "4                  0.0                        0.0                       0.0   \n",
       "\n",
       "   main_category_technology  main_category_theater  start_Q_Q2  start_Q_Q3  \\\n",
       "0                       0.0                    0.0         0.0         0.0   \n",
       "1                       0.0                    0.0         0.0         1.0   \n",
       "2                       0.0                    0.0         1.0         0.0   \n",
       "3                       0.0                    0.0         0.0         1.0   \n",
       "4                       1.0                    0.0         0.0         0.0   \n",
       "\n",
       "   start_Q_Q4  \n",
       "0         1.0  \n",
       "1         0.0  \n",
       "2         0.0  \n",
       "3         0.0  \n",
       "4         1.0  \n",
       "\n",
       "[5 rows x 23 columns]"
      ]
     },
     "execution_count": 2,
     "metadata": {},
     "output_type": "execute_result"
    }
   ],
   "source": [
    "df = pd.read_csv('data\\processed_data(by_quarter).csv')\n",
    "df.drop(['Unnamed: 0', 'goal_usd'], axis = 1, inplace = True)\n",
    "df.head()"
   ]
  },
  {
   "cell_type": "code",
   "execution_count": 11,
   "metadata": {},
   "outputs": [],
   "source": [
    "## Define function for performance result\n",
    "\n",
    "# Function to print KFold Cross validation performance on train set \n",
    "def KFoldresult_5fold(model, x_train, y_train, is_logreg):\n",
    "    accuracy = cross_val_score (model, x_train,y_train, cv=5)\n",
    "    print (model)\n",
    "    print (f'KFolds cross validation: \\n {accuracy} \\n')\n",
    "    print (f'Mean accuracy: \\n {accuracy.mean()}\\n')\n",
    "    print ('Coefficient of feature: \\n' )\n",
    "    if is_logreg:\n",
    "        for index, co in enumerate(model.coef_[0]):\n",
    "            print (f'Feature {index}: {co:.5f}')\n",
    "    else:\n",
    "        for index, co in enumerate(model.feature_importances_):\n",
    "            print (f'Feature {index}: {co:.5f}')\n",
    "    return accuracy\n",
    "\n",
    "# Function to return prediction and print prediction result on test set \n",
    "def predictionresult(model, x_test, y_test):\n",
    "    y_pred = model.predict(x_test)\n",
    "    print (f'Confusion_matrix: \\n {confusion_matrix(y_test, y_pred)} \\n')\n",
    "    print (f'Classification report: \\n {classification_report(y_test,y_pred)} \\n')\n",
    "    return y_pred\n",
    "\n",
    "# Function to print out Grid Search parameters: \n",
    "def gridsearch(model, parameters, X_train, y_train):\n",
    "    search = GridSearchCV(model, parameters, n_jobs=-1)\n",
    "    search.fit(x_train,y_train)\n",
    "    print(f'Parameter tested: {parameters}')\n",
    "    print(f'Best Score : {search.best_score_}')\n",
    "    print(f'Best parameters: {search.best_params_}')\n",
    "    return search\n",
    "\n",
    "def performace(y_ture, y_pred):\n",
    "    return [accuracy_score(y_ture, y_pred), recall_score(y_ture, y_pred), precision_score(y_ture, y_pred), f1_score(y_ture, y_pred)]"
   ]
  },
  {
   "cell_type": "code",
   "execution_count": 4,
   "metadata": {},
   "outputs": [],
   "source": [
    "# Split train set and test set \n",
    "y = df['success']\n",
    "x = df.drop('success',axis=1)\n",
    "x_train, x_test, y_train, y_test = train_test_split(x,y,train_size = 0.8, random_state = 42) #shuffle = False that means no random "
   ]
  },
  {
   "cell_type": "markdown",
   "metadata": {},
   "source": [
    "## Logistic Regression (log)\n",
    "#### -Develop model"
   ]
  },
  {
   "cell_type": "code",
   "execution_count": 12,
   "metadata": {},
   "outputs": [
    {
     "name": "stdout",
     "output_type": "stream",
     "text": [
      "LogisticRegression()\n",
      "KFolds cross validation: \n",
      " [0.66830179 0.67141341 0.67459824 0.6784786  0.6715112 ] \n",
      "\n",
      "Mean accuracy: \n",
      " 0.6728606472980359\n",
      "\n",
      "Coefficient of feature: \n",
      "\n",
      "Feature 0: -2.39444\n",
      "Feature 1: -0.67378\n",
      "Feature 2: 2.93481\n",
      "Feature 3: 43.04130\n",
      "Feature 4: 0.10109\n",
      "Feature 5: 1.12956\n",
      "Feature 6: -0.56457\n",
      "Feature 7: 1.15761\n",
      "Feature 8: 0.11070\n",
      "Feature 9: -0.14227\n",
      "Feature 10: 0.17703\n",
      "Feature 11: -1.10396\n",
      "Feature 12: 0.07818\n",
      "Feature 13: -1.04814\n",
      "Feature 14: 0.44949\n",
      "Feature 15: -0.53562\n",
      "Feature 16: 0.54856\n",
      "Feature 17: -0.98039\n",
      "Feature 18: 0.30545\n",
      "Feature 19: -0.02547\n",
      "Feature 20: -0.12572\n",
      "Feature 21: -0.00833\n"
     ]
    },
    {
     "data": {
      "text/plain": [
       "array([0.66830179, 0.67141341, 0.67459824, 0.6784786 , 0.6715112 ])"
      ]
     },
     "execution_count": 12,
     "metadata": {},
     "output_type": "execute_result"
    }
   ],
   "source": [
    "# Create model -log\n",
    "log = LogisticRegression()\n",
    "log.fit (x_train,y_train)\n",
    "\n",
    "KFoldresult_5fold(log, x_train, y_train, True)"
   ]
  },
  {
   "cell_type": "code",
   "execution_count": 6,
   "metadata": {},
   "outputs": [
    {
     "name": "stdout",
     "output_type": "stream",
     "text": [
      "Confusion_matrix: \n",
      " [[ 7652  7250]\n",
      " [ 3792 15452]] \n",
      "\n",
      "Classification report: \n",
      "               precision    recall  f1-score   support\n",
      "\n",
      "         0.0       0.67      0.51      0.58     14902\n",
      "         1.0       0.68      0.80      0.74     19244\n",
      "\n",
      "    accuracy                           0.68     34146\n",
      "   macro avg       0.67      0.66      0.66     34146\n",
      "weighted avg       0.68      0.68      0.67     34146\n",
      " \n",
      "\n"
     ]
    }
   ],
   "source": [
    "log_y_predict = predictionresult(log, x_test, y_test)"
   ]
  },
  {
   "cell_type": "markdown",
   "metadata": {},
   "source": [
    "#### -Optimizing hyperparameters"
   ]
  },
  {
   "cell_type": "code",
   "execution_count": 7,
   "metadata": {},
   "outputs": [
    {
     "name": "stdout",
     "output_type": "stream",
     "text": [
      "Parameter tested: {'C': array([0.1, 0.2, 0.3, 0.4, 0.5, 0.6, 0.7, 0.8, 0.9, 1. ]), 'penalty': ['l1', 'l2']}\n",
      "Best Score : 0.6728606472980359\n",
      "Best parameters: {'C': 1.0, 'penalty': 'l2'}\n"
     ]
    },
    {
     "data": {
      "text/plain": [
       "GridSearchCV(estimator=LogisticRegression(), n_jobs=-1,\n",
       "             param_grid={'C': array([0.1, 0.2, 0.3, 0.4, 0.5, 0.6, 0.7, 0.8, 0.9, 1. ]),\n",
       "                         'penalty': ['l1', 'l2']})"
      ]
     },
     "execution_count": 7,
     "metadata": {},
     "output_type": "execute_result"
    }
   ],
   "source": [
    "param = {'C':np.linspace(0.1,1,10), 'penalty': ['l1', 'l2']} \n",
    "gridsearch (log, param, x_train, y_train)"
   ]
  },
  {
   "cell_type": "markdown",
   "metadata": {},
   "source": [
    "#### Apply the best parameters {'C': 1.0, 'penalty': 'l2'} \n",
    " - best parameters is same as default parameters for model 'log'"
   ]
  },
  {
   "cell_type": "markdown",
   "metadata": {},
   "source": [
    "## Random Forest Classifier (ranforest)\n",
    "#### -Develop model "
   ]
  },
  {
   "cell_type": "code",
   "execution_count": 13,
   "metadata": {},
   "outputs": [
    {
     "name": "stdout",
     "output_type": "stream",
     "text": [
      "RandomForestClassifier(n_jobs=-1, random_state=42)\n",
      "KFolds cross validation: \n",
      " [0.8791961  0.87886664 0.87974521 0.87674342 0.87897203] \n",
      "\n",
      "Mean accuracy: \n",
      " 0.8787046818613394\n",
      "\n",
      "Coefficient of feature: \n",
      "\n",
      "Feature 0: 0.07421\n",
      "Feature 1: 0.07898\n",
      "Feature 2: 0.05877\n",
      "Feature 3: 0.68954\n",
      "Feature 4: 0.00834\n",
      "Feature 5: 0.00399\n",
      "Feature 6: 0.00226\n",
      "Feature 7: 0.00191\n",
      "Feature 8: 0.00225\n",
      "Feature 9: 0.00281\n",
      "Feature 10: 0.00382\n",
      "Feature 11: 0.01615\n",
      "Feature 12: 0.00319\n",
      "Feature 13: 0.00291\n",
      "Feature 14: 0.00461\n",
      "Feature 15: 0.00245\n",
      "Feature 16: 0.00452\n",
      "Feature 17: 0.01819\n",
      "Feature 18: 0.00193\n",
      "Feature 19: 0.00654\n",
      "Feature 20: 0.00630\n",
      "Feature 21: 0.00634\n"
     ]
    },
    {
     "data": {
      "text/plain": [
       "array([0.8791961 , 0.87886664, 0.87974521, 0.87674342, 0.87897203])"
      ]
     },
     "execution_count": 13,
     "metadata": {},
     "output_type": "execute_result"
    }
   ],
   "source": [
    "ranforest = RandomForestClassifier(random_state = 42, n_jobs=-1)\n",
    "ranforest.fit (x_train,y_train)\n",
    "\n",
    "KFoldresult_5fold(ranforest, x_train, y_train, False)"
   ]
  },
  {
   "cell_type": "code",
   "execution_count": 14,
   "metadata": {},
   "outputs": [
    {
     "name": "stdout",
     "output_type": "stream",
     "text": [
      "Confusion_matrix: \n",
      " [[12331  2571]\n",
      " [ 1600 17644]] \n",
      "\n",
      "Classification report: \n",
      "               precision    recall  f1-score   support\n",
      "\n",
      "         0.0       0.89      0.83      0.86     14902\n",
      "         1.0       0.87      0.92      0.89     19244\n",
      "\n",
      "    accuracy                           0.88     34146\n",
      "   macro avg       0.88      0.87      0.87     34146\n",
      "weighted avg       0.88      0.88      0.88     34146\n",
      " \n",
      "\n"
     ]
    }
   ],
   "source": [
    "ranforest_y_predict = predictionresult(ranforest, x_test, y_test)"
   ]
  },
  {
   "cell_type": "markdown",
   "metadata": {},
   "source": [
    "#### -Optimizing Hyperparameters"
   ]
  },
  {
   "cell_type": "code",
   "execution_count": 15,
   "metadata": {},
   "outputs": [
    {
     "name": "stdout",
     "output_type": "stream",
     "text": [
      "Parameter tested: {'max_depth': [1, 2, 3, 4]}\n",
      "Best Score : 0.8648231155969773\n",
      "Best parameters: {'max_depth': 4}\n"
     ]
    },
    {
     "data": {
      "text/plain": [
       "GridSearchCV(estimator=RandomForestClassifier(n_jobs=-1, random_state=42),\n",
       "             n_jobs=-1, param_grid={'max_depth': [1, 2, 3, 4]})"
      ]
     },
     "execution_count": 15,
     "metadata": {},
     "output_type": "execute_result"
    }
   ],
   "source": [
    "param = {'max_depth': list(range(1,5))}\n",
    "gridsearch (ranforest, param, x_train, y_train)"
   ]
  },
  {
   "cell_type": "markdown",
   "metadata": {},
   "source": [
    "#### Apply the best parameters {'max_depth': 4}"
   ]
  },
  {
   "cell_type": "code",
   "execution_count": 16,
   "metadata": {},
   "outputs": [
    {
     "name": "stdout",
     "output_type": "stream",
     "text": [
      "RandomForestClassifier(max_depth=4, n_jobs=-1, random_state=42)\n",
      "KFolds cross validation: \n",
      " [0.86660321 0.86685946 0.86462642 0.86078266 0.86524381] \n",
      "\n",
      "Mean accuracy: \n",
      " 0.8648231155969773\n",
      "\n",
      "Coefficient of feature: \n",
      "\n",
      "Feature 0: 0.06871\n",
      "Feature 1: 0.00287\n",
      "Feature 2: 0.04939\n",
      "Feature 3: 0.68332\n",
      "Feature 4: 0.00169\n",
      "Feature 5: 0.01605\n",
      "Feature 6: 0.00208\n",
      "Feature 7: 0.00658\n",
      "Feature 8: 0.00008\n",
      "Feature 9: 0.00001\n",
      "Feature 10: 0.00065\n",
      "Feature 11: 0.07265\n",
      "Feature 12: 0.00034\n",
      "Feature 13: 0.00667\n",
      "Feature 14: 0.01246\n",
      "Feature 15: 0.00147\n",
      "Feature 16: 0.01278\n",
      "Feature 17: 0.06159\n",
      "Feature 18: 0.00023\n",
      "Feature 19: 0.00007\n",
      "Feature 20: 0.00024\n",
      "Feature 21: 0.00009\n",
      "Confusion_matrix: \n",
      " [[11446  3456]\n",
      " [ 1148 18096]] \n",
      "\n",
      "Classification report: \n",
      "               precision    recall  f1-score   support\n",
      "\n",
      "         0.0       0.91      0.77      0.83     14902\n",
      "         1.0       0.84      0.94      0.89     19244\n",
      "\n",
      "    accuracy                           0.87     34146\n",
      "   macro avg       0.87      0.85      0.86     34146\n",
      "weighted avg       0.87      0.87      0.86     34146\n",
      " \n",
      "\n"
     ]
    }
   ],
   "source": [
    "ranforest = RandomForestClassifier(max_depth=4, random_state = 42, n_jobs=-1)\n",
    "ranforest.fit (x_train,y_train)\n",
    "\n",
    "KFoldresult_5fold(ranforest, x_train, y_train, False)\n",
    "ranforest_y_predict = predictionresult(ranforest, x_test, y_test)"
   ]
  },
  {
   "cell_type": "markdown",
   "metadata": {},
   "source": [
    "## XG Boost\n",
    "#### -Develop model"
   ]
  },
  {
   "cell_type": "code",
   "execution_count": 18,
   "metadata": {},
   "outputs": [
    {
     "name": "stderr",
     "output_type": "stream",
     "text": [
      "C:\\Users\\user\\anaconda3\\lib\\site-packages\\xgboost\\data.py:112: UserWarning: Use subset (sliced data) of np.ndarray is not recommended because it will generate extra copies and increase memory consumption\n",
      "  warnings.warn(\n"
     ]
    },
    {
     "name": "stdout",
     "output_type": "stream",
     "text": [
      "XGBClassifier(base_score=0.5, booster='gbtree', colsample_bylevel=1,\n",
      "              colsample_bynode=1, colsample_bytree=1, eval_metric='mlogloss',\n",
      "              gamma=0, gpu_id=-1, importance_type='gain',\n",
      "              interaction_constraints='', learning_rate=0.300000012,\n",
      "              max_delta_step=0, max_depth=6, min_child_weight=1, missing=nan,\n",
      "              monotone_constraints='()', n_estimators=100, n_jobs=-1,\n",
      "              num_parallel_tree=1, random_state=0, reg_alpha=0, reg_lambda=1,\n",
      "              scale_pos_weight=1, subsample=1, tree_method='exact',\n",
      "              use_label_encoder=False, validate_parameters=1, verbosity=None)\n",
      "KFolds cross validation: \n",
      " [0.8852363  0.88417469 0.8852363  0.88358897 0.88431688] \n",
      "\n",
      "Mean accuracy: \n",
      " 0.8845106294020857\n",
      "\n",
      "Coefficient of feature: \n",
      "\n",
      "Feature 0: 0.03108\n",
      "Feature 1: 0.00756\n",
      "Feature 2: 0.00699\n",
      "Feature 3: 0.26823\n",
      "Feature 4: 0.01556\n",
      "Feature 5: 0.03867\n",
      "Feature 6: 0.01115\n",
      "Feature 7: 0.04227\n",
      "Feature 8: 0.01742\n",
      "Feature 9: 0.01967\n",
      "Feature 10: 0.01836\n",
      "Feature 11: 0.14094\n",
      "Feature 12: 0.03676\n",
      "Feature 13: 0.01656\n",
      "Feature 14: 0.04232\n",
      "Feature 15: 0.01976\n",
      "Feature 16: 0.03752\n",
      "Feature 17: 0.19400\n",
      "Feature 18: 0.01180\n",
      "Feature 19: 0.00791\n",
      "Feature 20: 0.00822\n",
      "Feature 21: 0.00728\n"
     ]
    },
    {
     "data": {
      "text/plain": [
       "array([0.8852363 , 0.88417469, 0.8852363 , 0.88358897, 0.88431688])"
      ]
     },
     "execution_count": 18,
     "metadata": {},
     "output_type": "execute_result"
    }
   ],
   "source": [
    "xgmodel = XGBClassifier(use_label_encoder = False, eval_metric='mlogloss',n_jobs = -1 )\n",
    "xgmodel.fit (x_train,y_train)\n",
    "\n",
    "KFoldresult_5fold(xgmodel, x_train, y_train, False)"
   ]
  },
  {
   "cell_type": "code",
   "execution_count": 19,
   "metadata": {},
   "outputs": [
    {
     "name": "stdout",
     "output_type": "stream",
     "text": [
      "Confusion_matrix: \n",
      " [[12297  2605]\n",
      " [ 1334 17910]] \n",
      "\n",
      "Classification report: \n",
      "               precision    recall  f1-score   support\n",
      "\n",
      "         0.0       0.90      0.83      0.86     14902\n",
      "         1.0       0.87      0.93      0.90     19244\n",
      "\n",
      "    accuracy                           0.88     34146\n",
      "   macro avg       0.89      0.88      0.88     34146\n",
      "weighted avg       0.89      0.88      0.88     34146\n",
      " \n",
      "\n"
     ]
    }
   ],
   "source": [
    "xgmodel_y_predict = predictionresult(xgmodel, x_test, y_test)"
   ]
  },
  {
   "cell_type": "markdown",
   "metadata": {},
   "source": [
    "#### -Optimizing Hyperparameters"
   ]
  },
  {
   "cell_type": "code",
   "execution_count": 20,
   "metadata": {},
   "outputs": [
    {
     "name": "stdout",
     "output_type": "stream",
     "text": [
      "Parameter tested: {'max_depth': [1, 2, 3, 4]}\n",
      "Best Score : 0.8846936661427026\n",
      "Best parameters: {'max_depth': 4}\n"
     ]
    },
    {
     "data": {
      "text/plain": [
       "GridSearchCV(estimator=XGBClassifier(base_score=0.5, booster='gbtree',\n",
       "                                     colsample_bylevel=1, colsample_bynode=1,\n",
       "                                     colsample_bytree=1, eval_metric='mlogloss',\n",
       "                                     gamma=0, gpu_id=-1, importance_type='gain',\n",
       "                                     interaction_constraints='',\n",
       "                                     learning_rate=0.300000012,\n",
       "                                     max_delta_step=0, max_depth=6,\n",
       "                                     min_child_weight=1, missing=nan,\n",
       "                                     monotone_constraints='()',\n",
       "                                     n_estimators=100, n_jobs=-1,\n",
       "                                     num_parallel_tree=1, random_state=0,\n",
       "                                     reg_alpha=0, reg_lambda=1,\n",
       "                                     scale_pos_weight=1, subsample=1,\n",
       "                                     tree_method='exact',\n",
       "                                     use_label_encoder=False,\n",
       "                                     validate_parameters=1, verbosity=None),\n",
       "             n_jobs=-1, param_grid={'max_depth': [1, 2, 3, 4]})"
      ]
     },
     "execution_count": 20,
     "metadata": {},
     "output_type": "execute_result"
    }
   ],
   "source": [
    "param = {'max_depth': list(range(1,5))}\n",
    "gridsearch (xgmodel, param, x_train, y_train)"
   ]
  },
  {
   "cell_type": "markdown",
   "metadata": {},
   "source": [
    "#### Apply the best parameters {'max_depth': 4}"
   ]
  },
  {
   "cell_type": "code",
   "execution_count": 21,
   "metadata": {},
   "outputs": [
    {
     "name": "stderr",
     "output_type": "stream",
     "text": [
      "C:\\Users\\user\\anaconda3\\lib\\site-packages\\xgboost\\data.py:112: UserWarning: Use subset (sliced data) of np.ndarray is not recommended because it will generate extra copies and increase memory consumption\n",
      "  warnings.warn(\n"
     ]
    },
    {
     "name": "stdout",
     "output_type": "stream",
     "text": [
      "XGBClassifier(base_score=0.5, booster='gbtree', colsample_bylevel=1,\n",
      "              colsample_bynode=1, colsample_bytree=1, eval_metric='mlogloss',\n",
      "              gamma=0, gpu_id=-1, importance_type='gain',\n",
      "              interaction_constraints='', learning_rate=0.300000012,\n",
      "              max_delta_step=0, max_depth=4, min_child_weight=1, missing=nan,\n",
      "              monotone_constraints='()', n_estimators=100, n_jobs=-1,\n",
      "              num_parallel_tree=1, random_state=0, reg_alpha=0, reg_lambda=1,\n",
      "              scale_pos_weight=1, subsample=1, tree_method='exact',\n",
      "              use_label_encoder=False, validate_parameters=1, verbosity=None)\n",
      "KFolds cross validation: \n",
      " [0.88611487 0.88530951 0.88501666 0.88263719 0.8843901 ] \n",
      "\n",
      "Mean accuracy: \n",
      " 0.8846936661427026\n",
      "\n",
      "Coefficient of feature: \n",
      "\n",
      "Feature 0: 0.04288\n",
      "Feature 1: 0.00569\n",
      "Feature 2: 0.00476\n",
      "Feature 3: 0.36035\n",
      "Feature 4: 0.01319\n",
      "Feature 5: 0.04188\n",
      "Feature 6: 0.01294\n",
      "Feature 7: 0.03399\n",
      "Feature 8: 0.00997\n",
      "Feature 9: 0.01678\n",
      "Feature 10: 0.01453\n",
      "Feature 11: 0.14604\n",
      "Feature 12: 0.02020\n",
      "Feature 13: 0.01210\n",
      "Feature 14: 0.03491\n",
      "Feature 15: 0.01562\n",
      "Feature 16: 0.03379\n",
      "Feature 17: 0.15181\n",
      "Feature 18: 0.00768\n",
      "Feature 19: 0.00625\n",
      "Feature 20: 0.00982\n",
      "Feature 21: 0.00481\n"
     ]
    },
    {
     "data": {
      "text/plain": [
       "array([0.88611487, 0.88530951, 0.88501666, 0.88263719, 0.8843901 ])"
      ]
     },
     "execution_count": 21,
     "metadata": {},
     "output_type": "execute_result"
    }
   ],
   "source": [
    "xgmodel = XGBClassifier(use_label_encoder = False, eval_metric='mlogloss',n_jobs = -1, max_depth = 4)\n",
    "xgmodel.fit (x_train,y_train)\n",
    "\n",
    "KFoldresult_5fold(xgmodel, x_train, y_train, False)"
   ]
  },
  {
   "cell_type": "code",
   "execution_count": 22,
   "metadata": {},
   "outputs": [
    {
     "name": "stdout",
     "output_type": "stream",
     "text": [
      "Confusion_matrix: \n",
      " [[12231  2671]\n",
      " [ 1298 17946]] \n",
      "\n",
      "Classification report: \n",
      "               precision    recall  f1-score   support\n",
      "\n",
      "         0.0       0.90      0.82      0.86     14902\n",
      "         1.0       0.87      0.93      0.90     19244\n",
      "\n",
      "    accuracy                           0.88     34146\n",
      "   macro avg       0.89      0.88      0.88     34146\n",
      "weighted avg       0.89      0.88      0.88     34146\n",
      " \n",
      "\n"
     ]
    }
   ],
   "source": [
    "xgmodel_y_predict = predictionresult(xgmodel, x_test, y_test)"
   ]
  },
  {
   "cell_type": "code",
   "execution_count": 24,
   "metadata": {},
   "outputs": [
    {
     "data": {
      "text/html": [
       "<div>\n",
       "<style scoped>\n",
       "    .dataframe tbody tr th:only-of-type {\n",
       "        vertical-align: middle;\n",
       "    }\n",
       "\n",
       "    .dataframe tbody tr th {\n",
       "        vertical-align: top;\n",
       "    }\n",
       "\n",
       "    .dataframe thead th {\n",
       "        text-align: right;\n",
       "    }\n",
       "</style>\n",
       "<table border=\"1\" class=\"dataframe\">\n",
       "  <thead>\n",
       "    <tr style=\"text-align: right;\">\n",
       "      <th></th>\n",
       "      <th>Logistic Regression</th>\n",
       "      <th>Random Forest Classifier</th>\n",
       "      <th>XGBoost</th>\n",
       "      <th>Best Score</th>\n",
       "    </tr>\n",
       "  </thead>\n",
       "  <tbody>\n",
       "    <tr>\n",
       "      <th>Accuracy</th>\n",
       "      <td>0.676624</td>\n",
       "      <td>0.865167</td>\n",
       "      <td>0.883764</td>\n",
       "      <td>XGBoost</td>\n",
       "    </tr>\n",
       "    <tr>\n",
       "      <th>Recall</th>\n",
       "      <td>0.802952</td>\n",
       "      <td>0.940345</td>\n",
       "      <td>0.932550</td>\n",
       "      <td>Random Forest Classifier</td>\n",
       "    </tr>\n",
       "    <tr>\n",
       "      <th>Precision</th>\n",
       "      <td>0.680645</td>\n",
       "      <td>0.839644</td>\n",
       "      <td>0.870447</td>\n",
       "      <td>XGBoost</td>\n",
       "    </tr>\n",
       "    <tr>\n",
       "      <th>F1 Score</th>\n",
       "      <td>0.736757</td>\n",
       "      <td>0.887146</td>\n",
       "      <td>0.900429</td>\n",
       "      <td>XGBoost</td>\n",
       "    </tr>\n",
       "  </tbody>\n",
       "</table>\n",
       "</div>"
      ],
      "text/plain": [
       "           Logistic Regression  Random Forest Classifier   XGBoost  \\\n",
       "Accuracy              0.676624                  0.865167  0.883764   \n",
       "Recall                0.802952                  0.940345  0.932550   \n",
       "Precision             0.680645                  0.839644  0.870447   \n",
       "F1 Score              0.736757                  0.887146  0.900429   \n",
       "\n",
       "                         Best Score  \n",
       "Accuracy                    XGBoost  \n",
       "Recall     Random Forest Classifier  \n",
       "Precision                   XGBoost  \n",
       "F1 Score                    XGBoost  "
      ]
     },
     "execution_count": 24,
     "metadata": {},
     "output_type": "execute_result"
    }
   ],
   "source": [
    "log_score = performace(y_test, log_y_predict)\n",
    "rf_score = performace(y_test, ranforest_y_predict)\n",
    "xg_score = performace(y_test, xgmodel_y_predict)\n",
    "\n",
    "models_scores_table = pd.DataFrame({'Logistic Regression': log_score, 'Random Forest Classifier': rf_score, 'XGBoost':xg_score},\n",
    "                                    index=['Accuracy', 'Recall', 'Precision', 'F1 Score'])\n",
    "\n",
    "models_scores_table['Best Score'] = models_scores_table.idxmax(axis=1)\n",
    "\n",
    "models_scores_table"
   ]
  },
  {
   "cell_type": "code",
   "execution_count": null,
   "metadata": {},
   "outputs": [],
   "source": []
  }
 ],
 "metadata": {
  "kernelspec": {
   "display_name": "Python 3",
   "language": "python",
   "name": "python3"
  },
  "language_info": {
   "codemirror_mode": {
    "name": "ipython",
    "version": 3
   },
   "file_extension": ".py",
   "mimetype": "text/x-python",
   "name": "python",
   "nbconvert_exporter": "python",
   "pygments_lexer": "ipython3",
   "version": "3.8.5"
  }
 },
 "nbformat": 4,
 "nbformat_minor": 2
}
