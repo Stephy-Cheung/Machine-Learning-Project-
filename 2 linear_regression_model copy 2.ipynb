{
 "cells": [
  {
   "cell_type": "code",
   "execution_count": 1,
   "source": [
    "# Import library\r\n",
    "\r\n",
    "import pandas as pd \r\n",
    "import numpy as np\r\n",
    "import math\r\n",
    "\r\n",
    "from sklearn.linear_model import LinearRegression\r\n",
    "from sklearn.model_selection import train_test_split\r\n",
    "from sklearn.metrics import mean_squared_error, r2_score\r\n",
    "from sklearn.preprocessing import MinMaxScaler"
   ],
   "outputs": [],
   "metadata": {}
  },
  {
   "cell_type": "code",
   "execution_count": 2,
   "source": [
    "df = pd.read_csv('processed_data.csv')\r\n",
    "df.head()"
   ],
   "outputs": [
    {
     "output_type": "execute_result",
     "data": {
      "text/plain": [
       "   duration     goal_usd  status  usd_pledged  US_based  comics  crafts  \\\n",
       "0      16.0   2000.00000       1   6061.00000         1     0.0     0.0   \n",
       "1      30.0   3870.99771       1   3914.50512         0     1.0     0.0   \n",
       "2      30.0   1100.00000       1   1110.00000         1     0.0     0.0   \n",
       "3      45.0   3500.00000       1   4807.00000         1     0.0     0.0   \n",
       "4      60.0  30000.00000       1  40368.00000         1     0.0     0.0   \n",
       "\n",
       "   dance  design  fashion  ...    3    4    5    6    7    8    9   10   11  \\\n",
       "0    0.0     0.0      0.0  ...  0.0  0.0  0.0  0.0  0.0  0.0  0.0  1.0  0.0   \n",
       "1    0.0     0.0      0.0  ...  0.0  0.0  0.0  0.0  0.0  1.0  0.0  0.0  0.0   \n",
       "2    0.0     0.0      1.0  ...  0.0  0.0  0.0  1.0  0.0  0.0  0.0  0.0  0.0   \n",
       "3    0.0     0.0      0.0  ...  0.0  0.0  0.0  0.0  0.0  0.0  1.0  0.0  0.0   \n",
       "4    0.0     0.0      0.0  ...  0.0  0.0  0.0  0.0  0.0  0.0  0.0  0.0  1.0   \n",
       "\n",
       "    12  \n",
       "0  0.0  \n",
       "1  0.0  \n",
       "2  0.0  \n",
       "3  0.0  \n",
       "4  0.0  \n",
       "\n",
       "[5 rows x 30 columns]"
      ],
      "text/html": [
       "<div>\n",
       "<style scoped>\n",
       "    .dataframe tbody tr th:only-of-type {\n",
       "        vertical-align: middle;\n",
       "    }\n",
       "\n",
       "    .dataframe tbody tr th {\n",
       "        vertical-align: top;\n",
       "    }\n",
       "\n",
       "    .dataframe thead th {\n",
       "        text-align: right;\n",
       "    }\n",
       "</style>\n",
       "<table border=\"1\" class=\"dataframe\">\n",
       "  <thead>\n",
       "    <tr style=\"text-align: right;\">\n",
       "      <th></th>\n",
       "      <th>duration</th>\n",
       "      <th>goal_usd</th>\n",
       "      <th>status</th>\n",
       "      <th>usd_pledged</th>\n",
       "      <th>US_based</th>\n",
       "      <th>comics</th>\n",
       "      <th>crafts</th>\n",
       "      <th>dance</th>\n",
       "      <th>design</th>\n",
       "      <th>fashion</th>\n",
       "      <th>...</th>\n",
       "      <th>3</th>\n",
       "      <th>4</th>\n",
       "      <th>5</th>\n",
       "      <th>6</th>\n",
       "      <th>7</th>\n",
       "      <th>8</th>\n",
       "      <th>9</th>\n",
       "      <th>10</th>\n",
       "      <th>11</th>\n",
       "      <th>12</th>\n",
       "    </tr>\n",
       "  </thead>\n",
       "  <tbody>\n",
       "    <tr>\n",
       "      <th>0</th>\n",
       "      <td>16.0</td>\n",
       "      <td>2000.00000</td>\n",
       "      <td>1</td>\n",
       "      <td>6061.00000</td>\n",
       "      <td>1</td>\n",
       "      <td>0.0</td>\n",
       "      <td>0.0</td>\n",
       "      <td>0.0</td>\n",
       "      <td>0.0</td>\n",
       "      <td>0.0</td>\n",
       "      <td>...</td>\n",
       "      <td>0.0</td>\n",
       "      <td>0.0</td>\n",
       "      <td>0.0</td>\n",
       "      <td>0.0</td>\n",
       "      <td>0.0</td>\n",
       "      <td>0.0</td>\n",
       "      <td>0.0</td>\n",
       "      <td>1.0</td>\n",
       "      <td>0.0</td>\n",
       "      <td>0.0</td>\n",
       "    </tr>\n",
       "    <tr>\n",
       "      <th>1</th>\n",
       "      <td>30.0</td>\n",
       "      <td>3870.99771</td>\n",
       "      <td>1</td>\n",
       "      <td>3914.50512</td>\n",
       "      <td>0</td>\n",
       "      <td>1.0</td>\n",
       "      <td>0.0</td>\n",
       "      <td>0.0</td>\n",
       "      <td>0.0</td>\n",
       "      <td>0.0</td>\n",
       "      <td>...</td>\n",
       "      <td>0.0</td>\n",
       "      <td>0.0</td>\n",
       "      <td>0.0</td>\n",
       "      <td>0.0</td>\n",
       "      <td>0.0</td>\n",
       "      <td>1.0</td>\n",
       "      <td>0.0</td>\n",
       "      <td>0.0</td>\n",
       "      <td>0.0</td>\n",
       "      <td>0.0</td>\n",
       "    </tr>\n",
       "    <tr>\n",
       "      <th>2</th>\n",
       "      <td>30.0</td>\n",
       "      <td>1100.00000</td>\n",
       "      <td>1</td>\n",
       "      <td>1110.00000</td>\n",
       "      <td>1</td>\n",
       "      <td>0.0</td>\n",
       "      <td>0.0</td>\n",
       "      <td>0.0</td>\n",
       "      <td>0.0</td>\n",
       "      <td>1.0</td>\n",
       "      <td>...</td>\n",
       "      <td>0.0</td>\n",
       "      <td>0.0</td>\n",
       "      <td>0.0</td>\n",
       "      <td>1.0</td>\n",
       "      <td>0.0</td>\n",
       "      <td>0.0</td>\n",
       "      <td>0.0</td>\n",
       "      <td>0.0</td>\n",
       "      <td>0.0</td>\n",
       "      <td>0.0</td>\n",
       "    </tr>\n",
       "    <tr>\n",
       "      <th>3</th>\n",
       "      <td>45.0</td>\n",
       "      <td>3500.00000</td>\n",
       "      <td>1</td>\n",
       "      <td>4807.00000</td>\n",
       "      <td>1</td>\n",
       "      <td>0.0</td>\n",
       "      <td>0.0</td>\n",
       "      <td>0.0</td>\n",
       "      <td>0.0</td>\n",
       "      <td>0.0</td>\n",
       "      <td>...</td>\n",
       "      <td>0.0</td>\n",
       "      <td>0.0</td>\n",
       "      <td>0.0</td>\n",
       "      <td>0.0</td>\n",
       "      <td>0.0</td>\n",
       "      <td>0.0</td>\n",
       "      <td>1.0</td>\n",
       "      <td>0.0</td>\n",
       "      <td>0.0</td>\n",
       "      <td>0.0</td>\n",
       "    </tr>\n",
       "    <tr>\n",
       "      <th>4</th>\n",
       "      <td>60.0</td>\n",
       "      <td>30000.00000</td>\n",
       "      <td>1</td>\n",
       "      <td>40368.00000</td>\n",
       "      <td>1</td>\n",
       "      <td>0.0</td>\n",
       "      <td>0.0</td>\n",
       "      <td>0.0</td>\n",
       "      <td>0.0</td>\n",
       "      <td>0.0</td>\n",
       "      <td>...</td>\n",
       "      <td>0.0</td>\n",
       "      <td>0.0</td>\n",
       "      <td>0.0</td>\n",
       "      <td>0.0</td>\n",
       "      <td>0.0</td>\n",
       "      <td>0.0</td>\n",
       "      <td>0.0</td>\n",
       "      <td>0.0</td>\n",
       "      <td>1.0</td>\n",
       "      <td>0.0</td>\n",
       "    </tr>\n",
       "  </tbody>\n",
       "</table>\n",
       "<p>5 rows × 30 columns</p>\n",
       "</div>"
      ]
     },
     "metadata": {},
     "execution_count": 2
    }
   ],
   "metadata": {}
  },
  {
   "cell_type": "code",
   "execution_count": 3,
   "source": [
    "# train test split for X, y \r\n",
    "y = df['usd_pledged']\r\n",
    "X = df.drop(['usd_pledged', 'status','goal_usd'], axis = 1)\r\n",
    "\r\n",
    "x_train, x_test, y_train, y_test = train_test_split(X,y,train_size = 0.8, random_state = 42) #shuffle = False that means no random "
   ],
   "outputs": [],
   "metadata": {}
  },
  {
   "cell_type": "code",
   "execution_count": 4,
   "source": [
    "# dependent variable scaling \r\n",
    "de_scaler = MinMaxScaler(feature_range= (0,1))\r\n",
    "x_train = de_scaler.fit_transform (x_train)\r\n",
    "x_test = de_scaler.transform(x_test)\r\n"
   ],
   "outputs": [],
   "metadata": {}
  },
  {
   "cell_type": "markdown",
   "source": [
    "## Linear Regression Model "
   ],
   "metadata": {}
  },
  {
   "cell_type": "code",
   "execution_count": 5,
   "source": [
    "goal_reg = LinearRegression()\r\n",
    "goal_reg.fit(x_train, y_train)\r\n",
    "y_pred = goal_reg.predict(x_test)\r\n",
    "\r\n",
    "print (f'Mean Squared Error: {mean_squared_error(y_test,y_pred)}')\r\n",
    "print (f'Root Mean Squared Error: {math.sqrt(mean_squared_error(y_test,y_pred))}')\r\n",
    "print (f'Variance score: {r2_score(y_test,y_pred)}')\r\n"
   ],
   "outputs": [
    {
     "output_type": "stream",
     "name": "stdout",
     "text": [
      "Mean Squared Error: 6582195326.697448\n",
      "Root Mean Squared Error: 81130.72985433725\n",
      "Variance score: 0.017198281012048122\n"
     ]
    }
   ],
   "metadata": {}
  },
  {
   "cell_type": "markdown",
   "source": [
    "## Decision Tree Regression "
   ],
   "metadata": {}
  },
  {
   "cell_type": "code",
   "execution_count": 6,
   "source": [
    "from sklearn.tree import DecisionTreeRegressor \r\n",
    "tree_reg = DecisionTreeRegressor(random_state=0)\r\n",
    "tree_reg.fit(x_train,y_train)\r\n",
    "y_tree_pred = tree_reg.predict(x_test)\r\n",
    "print (f'Mean Squared Error: {mean_squared_error(y_test,y_tree_pred)}')\r\n",
    "print (f'Root Mean Squared Error: {math.sqrt(mean_squared_error(y_test,y_tree_pred))}')\r\n",
    "print (f'Variance score: {r2_score(y_test,y_tree_pred)}')\r\n"
   ],
   "outputs": [
    {
     "output_type": "stream",
     "name": "stdout",
     "text": [
      "Mean Squared Error: 7412540151.925402\n",
      "Root Mean Squared Error: 86096.10996976228\n",
      "Variance score: -0.10678228794445466\n"
     ]
    }
   ],
   "metadata": {}
  },
  {
   "cell_type": "code",
   "execution_count": 7,
   "source": [
    "tree_reg.get_depth()"
   ],
   "outputs": [
    {
     "output_type": "execute_result",
     "data": {
      "text/plain": [
       "38"
      ]
     },
     "metadata": {},
     "execution_count": 7
    }
   ],
   "metadata": {}
  },
  {
   "cell_type": "code",
   "execution_count": 8,
   "source": [
    "# hyper parameter tuning\r\n",
    "from sklearn.model_selection import GridSearchCV\r\n",
    "def gridsearch(model, parameters, X_train, y_train):\r\n",
    "    search = GridSearchCV(model, parameters, n_jobs=-1)\r\n",
    "    search.fit(x_train,y_train)\r\n",
    "    print(f'Parameter tested: {parameters}')\r\n",
    "    print(f'Best Score : {search.best_score_}')\r\n",
    "    print(f'Best parameters: {search.best_params_}')\r\n",
    "    return search"
   ],
   "outputs": [],
   "metadata": {}
  },
  {
   "cell_type": "code",
   "execution_count": 9,
   "source": [
    "param = {'max_depth': list(range(1,30))} \r\n",
    "gridsearch (tree_reg, param, x_train, y_train)"
   ],
   "outputs": [
    {
     "output_type": "stream",
     "name": "stdout",
     "text": [
      "Parameter tested: {'max_depth': [1, 2, 3, 4, 5, 6, 7, 8, 9, 10, 11, 12, 13, 14, 15, 16, 17, 18, 19, 20, 21, 22, 23, 24, 25, 26, 27, 28, 29]}\n",
      "Best Score : 0.02784207275533266\n",
      "Best parameters: {'max_depth': 5}\n"
     ]
    },
    {
     "output_type": "execute_result",
     "data": {
      "text/plain": [
       "GridSearchCV(estimator=DecisionTreeRegressor(random_state=0), n_jobs=-1,\n",
       "             param_grid={'max_depth': [1, 2, 3, 4, 5, 6, 7, 8, 9, 10, 11, 12,\n",
       "                                       13, 14, 15, 16, 17, 18, 19, 20, 21, 22,\n",
       "                                       23, 24, 25, 26, 27, 28, 29]})"
      ]
     },
     "metadata": {},
     "execution_count": 9
    }
   ],
   "metadata": {}
  },
  {
   "cell_type": "code",
   "execution_count": 10,
   "source": [
    "## Fine tuning\r\n",
    "tree_reg2 = DecisionTreeRegressor(max_depth=5)\r\n",
    "tree_reg2.fit(x_train,y_train)\r\n",
    "y_tree_pred = tree_reg2.predict(x_test)\r\n",
    "print (f'Mean Squared Error: {mean_squared_error(y_test,y_tree_pred)}')\r\n",
    "print (f'Root Mean Squared Error: {math.sqrt(mean_squared_error(y_test,y_tree_pred))}')\r\n",
    "print (f'Variance score: {r2_score(y_test,y_tree_pred)}')"
   ],
   "outputs": [
    {
     "output_type": "stream",
     "name": "stdout",
     "text": [
      "Mean Squared Error: 6507032931.506234\n",
      "Root Mean Squared Error: 80666.1820808834\n",
      "Variance score: 0.02842093964351733\n"
     ]
    }
   ],
   "metadata": {}
  },
  {
   "cell_type": "markdown",
   "source": [
    "## AdaBoostRegression"
   ],
   "metadata": {}
  },
  {
   "cell_type": "code",
   "execution_count": 11,
   "source": [
    "from sklearn.ensemble import AdaBoostRegressor"
   ],
   "outputs": [],
   "metadata": {}
  },
  {
   "cell_type": "code",
   "execution_count": 12,
   "source": [
    "ada_regr = AdaBoostRegressor(random_state=0)\r\n",
    "ada_regr.fit(x_train,y_train)\r\n",
    "y_ada_pred = ada_regr.predict(x_test)\r\n",
    "\r\n",
    "print (f'Mean Squared Error: {mean_squared_error(y_test,y_ada_pred)}')\r\n",
    "print (f'Root Mean Squared Error: {math.sqrt(mean_squared_error(y_test,y_ada_pred))}')\r\n",
    "print (f'Variance score: {r2_score(y_test,y_ada_pred)}')"
   ],
   "outputs": [
    {
     "output_type": "stream",
     "name": "stdout",
     "text": [
      "Mean Squared Error: 37106306247.524605\n",
      "Root Mean Squared Error: 192629.97234990355\n",
      "Variance score: -4.5404222687596985\n"
     ]
    }
   ],
   "metadata": {}
  },
  {
   "cell_type": "code",
   "execution_count": null,
   "source": [],
   "outputs": [],
   "metadata": {}
  }
 ],
 "metadata": {
  "orig_nbformat": 4,
  "language_info": {
   "name": "python",
   "version": "3.8.8",
   "mimetype": "text/x-python",
   "codemirror_mode": {
    "name": "ipython",
    "version": 3
   },
   "pygments_lexer": "ipython3",
   "nbconvert_exporter": "python",
   "file_extension": ".py"
  },
  "kernelspec": {
   "name": "python3",
   "display_name": "Python 3.8.8 64-bit ('FTDS': conda)"
  },
  "interpreter": {
   "hash": "7e7ae8b1718174e9f443afd7248b60321c4690586460e9e9bc3b215bfdbba77d"
  }
 },
 "nbformat": 4,
 "nbformat_minor": 2
}